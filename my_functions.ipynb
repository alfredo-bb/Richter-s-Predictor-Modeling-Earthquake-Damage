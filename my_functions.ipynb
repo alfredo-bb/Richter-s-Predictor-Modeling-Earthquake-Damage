{
 "cells": [
  {
   "cell_type": "code",
   "execution_count": null,
   "metadata": {},
   "outputs": [],
   "source": [
    "from ipynb.fs.full.my_functions import factorial\n",
    "\n",
    "#this goes in the main notebook"
   ]
  },
  {
   "cell_type": "code",
   "execution_count": 2,
   "metadata": {},
   "outputs": [],
   "source": [
    "def factorial(n):\n",
    "    if n == 0:\n",
    "        return 1\n",
    "    else:\n",
    "        return n * factorial(n-1)"
   ]
  },
  {
   "cell_type": "code",
   "execution_count": 1,
   "metadata": {},
   "outputs": [],
   "source": [
    "def OHE(dataframe, column):\n",
    "    dummy_df = pd.get_dummies(dataframe[column],prefix=column)\n",
    "    dataframe = pd.concat((dataframe, dummy_df), axis=1)\n",
    "    del(dataframe[column])\n",
    "    return dataframe\n"
   ]
  },
  {
   "cell_type": "code",
   "execution_count": null,
   "metadata": {},
   "outputs": [],
   "source": [
    "for i in cat_columns:\n",
    "    df =  OHE(df,i)\n",
    "    x_test = OHE(x_test,i)"
   ]
  },
  {
   "cell_type": "code",
   "execution_count": null,
   "metadata": {},
   "outputs": [],
   "source": [
    "#Target Encoding for the categorical variables\n",
    "\n",
    "X=df.drop(\"damage_grade\",axis=\"columns\")\n",
    "y=df[\"damage_grade\"]"
   ]
  },
  {
   "cell_type": "code",
   "execution_count": null,
   "metadata": {},
   "outputs": [],
   "source": [
    "encoder = TargetEncoder()\n",
    "tg_enc = encoder.fit(X, y)\n",
    "Transformed_x_train = tg_enc.transform(X)\n",
    "Transformed_x_test = tg_enc.transform(x_test)"
   ]
  },
  {
   "cell_type": "code",
   "execution_count": null,
   "metadata": {},
   "outputs": [],
   "source": [
    "#I test Label Encoding\n",
    "\n",
    "def LE(dataframe, column):\n",
    "    le = LabelEncoder()\n",
    "    x_test.foundation_type=le.fit_transform(x_test.foundation_type)\n",
    "    dataframe[column]=le.fit_transform(dataframe[column])\n",
    "\n",
    "    return dataframe\n"
   ]
  },
  {
   "cell_type": "code",
   "execution_count": null,
   "metadata": {},
   "outputs": [],
   "source": [
    "for i in cat_columns:\n",
    "    df =  LE(df,i)\n",
    "    x_test = LE(x_test,i)"
   ]
  },
  {
   "cell_type": "code",
   "execution_count": null,
   "metadata": {},
   "outputs": [],
   "source": [
    "#Decision tree\n",
    "\n",
    "dtc = tree.DecisionTreeClassifier()\n",
    "dtc_scores = cross_val_score(dtc, X, y, cv=5)\n",
    "\n",
    "print(\"decision tree score f1 is on average\", mean(dtc_scores))"
   ]
  },
  {
   "cell_type": "code",
   "execution_count": null,
   "metadata": {},
   "outputs": [],
   "source": [
    "#Random Forest Classifier\n",
    "\n",
    "rfc_g = RandomForestClassifier()\n",
    "\n",
    "rfc_scores = cross_val_score(rfc_g, X, y, cv=5, scoring=\"f1_micro\")\n",
    "\n",
    "print(\"random forest f1 score is on average\", mean(rfc_scores))"
   ]
  },
  {
   "cell_type": "code",
   "execution_count": null,
   "metadata": {},
   "outputs": [],
   "source": [
    "#rfc_gg = RandomForestClassifier(criterion=\"gini\")\n",
    "\n",
    "#rfc_scores_gg = cross_val_score(rfc_gg, X, y, cv=5, scoring=\"f1_micro\")\n",
    "\n",
    "#print(\"random forest gini f1 score is on average\", mean(rfc_scores_gg))"
   ]
  },
  {
   "cell_type": "code",
   "execution_count": null,
   "metadata": {},
   "outputs": [],
   "source": [
    "#rfc_e = RandomForestClassifier(criterion=\"entropy\")\n",
    "\n",
    "#rfc_scores_e = cross_val_score(rfc_e, X, y, cv=5, scoring=\"f1_micro\")\n",
    "\n",
    "#print(\"random forest entropy f1 score is on average\", mean(rfc_scores_e))"
   ]
  },
  {
   "cell_type": "code",
   "execution_count": null,
   "metadata": {},
   "outputs": [],
   "source": [
    "#fit and return f1_score\n",
    "rfc_gg.fit(Transformed_x_train,y)\n",
    "\n",
    "#f1=f1_score(y, rfc_gg.predict(Transformed_x_train), average=\"micro\")\n",
    "#f1"
   ]
  },
  {
   "cell_type": "code",
   "execution_count": null,
   "metadata": {},
   "outputs": [],
   "source": [
    "#Gradient Boosting Classifier\n",
    "\n",
    "gbr = GradientBoostingClassifier()\n",
    "gbr_score= cross_val_score(gbr, X, y, cv=5, scoring=\"f1_micro\")\n",
    "\n",
    "\n",
    "print(\"gradient boosting classifier f1 score is on average\", mean(gbr_score))"
   ]
  },
  {
   "cell_type": "code",
   "execution_count": null,
   "metadata": {},
   "outputs": [],
   "source": []
  },
  {
   "cell_type": "code",
   "execution_count": null,
   "metadata": {},
   "outputs": [],
   "source": []
  },
  {
   "cell_type": "code",
   "execution_count": null,
   "metadata": {},
   "outputs": [],
   "source": []
  }
 ],
 "metadata": {
  "kernelspec": {
   "display_name": "Python 3.9.12 ('base')",
   "language": "python",
   "name": "python3"
  },
  "language_info": {
   "codemirror_mode": {
    "name": "ipython",
    "version": 3
   },
   "file_extension": ".py",
   "mimetype": "text/x-python",
   "name": "python",
   "nbconvert_exporter": "python",
   "pygments_lexer": "ipython3",
   "version": "3.9.12"
  },
  "orig_nbformat": 4,
  "vscode": {
   "interpreter": {
    "hash": "c6ee66683305d240c5baa5d89963b17f03f1cf353f745af98a831c90f094e539"
   }
  }
 },
 "nbformat": 4,
 "nbformat_minor": 2
}
